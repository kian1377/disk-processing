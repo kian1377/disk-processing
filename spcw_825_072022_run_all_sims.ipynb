{
 "cells": [
  {
   "cell_type": "code",
   "execution_count": 1,
   "id": "d0ff75dc",
   "metadata": {
    "scrolled": true
   },
   "outputs": [
    {
     "data": {
      "text/plain": [
       "110"
      ]
     },
     "execution_count": 1,
     "metadata": {},
     "output_type": "execute_result"
    }
   ],
   "source": [
    "import numpy as np\n",
    "import astropy.io.fits as fits\n",
    "import astropy.units as u\n",
    "from IPython.display import clear_output\n",
    "import time\n",
    "\n",
    "from scipy.ndimage import rotate\n",
    "from scipy.interpolate import RegularGridInterpolator\n",
    "import h5py\n",
    "import os\n",
    "from pathlib import Path\n",
    "import glob\n",
    "\n",
    "import misc\n",
    "from matplotlib.patches import Circle\n",
    "from importlib import reload\n",
    "reload(misc)\n",
    "\n",
    "data_dir = Path('/groups/douglase/kians-data-files/disk-processing/')\n",
    "\n",
    "wavelength_c = 575e-9*u.m\n",
    "D = 2.3631*u.m\n",
    "mas_per_lamD = (wavelength_c/D*u.radian).to(u.mas)\n",
    "\n",
    "# define desired PSF dimensions and pixelscale in units of lambda/D\n",
    "npsf = 64\n",
    "psf_pixelscale = 13e-6\n",
    "psf_pixelscale_lamD = 500/575 * 1/2\n",
    "psf_pixelscale_mas = psf_pixelscale_lamD*mas_per_lamD/u.pix\n",
    "\n",
    "polaxis = 10\n",
    "\n",
    "ndisk = 128\n",
    "disk_pixelscale_mas = 10.5*u.mas/u.pix\n",
    "disk_pixelscale_lamD = (disk_pixelscale_mas/mas_per_lamD).value\n",
    "\n",
    "band1_wavelength = 575e-9*u.m\n",
    "iwa_band1 = 2.8\n",
    "owa_band1 = 9.7\n",
    "\n",
    "iwa = iwa_band1 * wavelength_c/band1_wavelength\n",
    "owa = owa_band1 * wavelength_c/band1_wavelength\n",
    "\n",
    "iwa_mas = iwa*mas_per_lamD\n",
    "owa_mas = owa*mas_per_lamD\n",
    "\n",
    "disk_fpaths = sorted(glob.glob(str(data_dir/'disks'/'Debes_Models_07_2022'/'*')))\n",
    "len(disk_fpaths)"
   ]
  },
  {
   "cell_type": "markdown",
   "id": "d2b68adb",
   "metadata": {},
   "source": [
    "# Do the matrix multiplication"
   ]
  },
  {
   "cell_type": "code",
   "execution_count": 3,
   "id": "0ad589b6",
   "metadata": {},
   "outputs": [],
   "source": [
    "ipsf_fpath = data_dir/'ipsfs'/'hlc_575_ipsfs_072022.hdf5'\n",
    "f = h5py.File(ipsf_fpath, 'r')\n",
    "ipsf_matrix = np.array(f['ipsf_matrix'])\n",
    "f.close()"
   ]
  },
  {
   "cell_type": "code",
   "execution_count": 4,
   "metadata": {},
   "outputs": [
    {
     "data": {
      "text/plain": [
       "'/groups/douglase/kians-data-files/disk-processing/images/Debes_Models_072022_HLC_images/annulus_inc0_r0.10.fits'"
      ]
     },
     "execution_count": 4,
     "metadata": {},
     "output_type": "execute_result"
    }
   ],
   "source": [
    "images_dir = data_dir/'images'/'Debes_Models_072022_HLC_images'\n",
    "\n",
    "import os\n",
    "fname = os.path.basename(disk_fpaths[0])\n",
    "str(images_dir/fname)"
   ]
  },
  {
   "cell_type": "code",
   "execution_count": 5,
   "metadata": {
    "scrolled": true
   },
   "outputs": [
    {
     "name": "stdout",
     "output_type": "stream",
     "text": [
      "1 /groups/douglase/kians-data-files/disk-processing/images/Debes_Models_072022_HLC_images/annulus_inc0_r0.10_575_sim.fits\n",
      "2 /groups/douglase/kians-data-files/disk-processing/images/Debes_Models_072022_HLC_images/annulus_inc0_r0.15_575_sim.fits\n",
      "3 /groups/douglase/kians-data-files/disk-processing/images/Debes_Models_072022_HLC_images/annulus_inc0_r0.20_575_sim.fits\n",
      "4 /groups/douglase/kians-data-files/disk-processing/images/Debes_Models_072022_HLC_images/annulus_inc0_r0.30_575_sim.fits\n",
      "5 /groups/douglase/kians-data-files/disk-processing/images/Debes_Models_072022_HLC_images/annulus_inc0_r0.40_575_sim.fits\n",
      "6 /groups/douglase/kians-data-files/disk-processing/images/Debes_Models_072022_HLC_images/annulus_inc0_r0.50_575_sim.fits\n",
      "7 /groups/douglase/kians-data-files/disk-processing/images/Debes_Models_072022_HLC_images/annulus_inc0_r0.60_575_sim.fits\n",
      "8 /groups/douglase/kians-data-files/disk-processing/images/Debes_Models_072022_HLC_images/annulus_inc0_r0.80_575_sim.fits\n",
      "9 /groups/douglase/kians-data-files/disk-processing/images/Debes_Models_072022_HLC_images/annulus_inc30_r0.10_575_sim.fits\n",
      "10 /groups/douglase/kians-data-files/disk-processing/images/Debes_Models_072022_HLC_images/annulus_inc30_r0.15_575_sim.fits\n",
      "11 /groups/douglase/kians-data-files/disk-processing/images/Debes_Models_072022_HLC_images/annulus_inc30_r0.20_575_sim.fits\n",
      "12 /groups/douglase/kians-data-files/disk-processing/images/Debes_Models_072022_HLC_images/annulus_inc30_r0.30_575_sim.fits\n",
      "13 /groups/douglase/kians-data-files/disk-processing/images/Debes_Models_072022_HLC_images/annulus_inc30_r0.40_575_sim.fits\n",
      "14 /groups/douglase/kians-data-files/disk-processing/images/Debes_Models_072022_HLC_images/annulus_inc30_r0.50_575_sim.fits\n",
      "15 /groups/douglase/kians-data-files/disk-processing/images/Debes_Models_072022_HLC_images/annulus_inc30_r0.60_575_sim.fits\n",
      "16 /groups/douglase/kians-data-files/disk-processing/images/Debes_Models_072022_HLC_images/annulus_inc30_r0.80_575_sim.fits\n",
      "17 /groups/douglase/kians-data-files/disk-processing/images/Debes_Models_072022_HLC_images/annulus_inc45_r0.10_575_sim.fits\n",
      "18 /groups/douglase/kians-data-files/disk-processing/images/Debes_Models_072022_HLC_images/annulus_inc45_r0.15_575_sim.fits\n",
      "19 /groups/douglase/kians-data-files/disk-processing/images/Debes_Models_072022_HLC_images/annulus_inc45_r0.20_575_sim.fits\n",
      "20 /groups/douglase/kians-data-files/disk-processing/images/Debes_Models_072022_HLC_images/annulus_inc45_r0.30_575_sim.fits\n",
      "21 /groups/douglase/kians-data-files/disk-processing/images/Debes_Models_072022_HLC_images/annulus_inc45_r0.40_575_sim.fits\n",
      "22 /groups/douglase/kians-data-files/disk-processing/images/Debes_Models_072022_HLC_images/annulus_inc45_r0.50_575_sim.fits\n",
      "23 /groups/douglase/kians-data-files/disk-processing/images/Debes_Models_072022_HLC_images/annulus_inc45_r0.60_575_sim.fits\n",
      "24 /groups/douglase/kians-data-files/disk-processing/images/Debes_Models_072022_HLC_images/annulus_inc45_r0.80_575_sim.fits\n",
      "25 /groups/douglase/kians-data-files/disk-processing/images/Debes_Models_072022_HLC_images/annulus_inc60_r0.10_575_sim.fits\n",
      "26 /groups/douglase/kians-data-files/disk-processing/images/Debes_Models_072022_HLC_images/annulus_inc60_r0.15_575_sim.fits\n",
      "27 /groups/douglase/kians-data-files/disk-processing/images/Debes_Models_072022_HLC_images/annulus_inc60_r0.20_575_sim.fits\n",
      "28 /groups/douglase/kians-data-files/disk-processing/images/Debes_Models_072022_HLC_images/annulus_inc60_r0.30_575_sim.fits\n",
      "29 /groups/douglase/kians-data-files/disk-processing/images/Debes_Models_072022_HLC_images/annulus_inc60_r0.40_575_sim.fits\n",
      "30 /groups/douglase/kians-data-files/disk-processing/images/Debes_Models_072022_HLC_images/annulus_inc60_r0.50_575_sim.fits\n",
      "31 /groups/douglase/kians-data-files/disk-processing/images/Debes_Models_072022_HLC_images/annulus_inc60_r0.60_575_sim.fits\n",
      "32 /groups/douglase/kians-data-files/disk-processing/images/Debes_Models_072022_HLC_images/annulus_inc60_r0.80_575_sim.fits\n",
      "33 /groups/douglase/kians-data-files/disk-processing/images/Debes_Models_072022_HLC_images/annulus_inc89_r0.10_575_sim.fits\n",
      "34 /groups/douglase/kians-data-files/disk-processing/images/Debes_Models_072022_HLC_images/annulus_inc89_r0.15_575_sim.fits\n",
      "35 /groups/douglase/kians-data-files/disk-processing/images/Debes_Models_072022_HLC_images/annulus_inc89_r0.20_575_sim.fits\n",
      "36 /groups/douglase/kians-data-files/disk-processing/images/Debes_Models_072022_HLC_images/annulus_inc89_r0.30_575_sim.fits\n",
      "37 /groups/douglase/kians-data-files/disk-processing/images/Debes_Models_072022_HLC_images/annulus_inc89_r0.40_575_sim.fits\n",
      "38 /groups/douglase/kians-data-files/disk-processing/images/Debes_Models_072022_HLC_images/annulus_inc89_r0.50_575_sim.fits\n",
      "39 /groups/douglase/kians-data-files/disk-processing/images/Debes_Models_072022_HLC_images/annulus_inc89_r0.60_575_sim.fits\n",
      "40 /groups/douglase/kians-data-files/disk-processing/images/Debes_Models_072022_HLC_images/annulus_inc89_r0.80_575_sim.fits\n",
      "41 /groups/douglase/kians-data-files/disk-processing/images/Debes_Models_072022_HLC_images/ring_inc0_r0.10_575_sim.fits\n",
      "42 /groups/douglase/kians-data-files/disk-processing/images/Debes_Models_072022_HLC_images/ring_inc0_r0.15_575_sim.fits\n",
      "43 /groups/douglase/kians-data-files/disk-processing/images/Debes_Models_072022_HLC_images/ring_inc0_r0.20_575_sim.fits\n",
      "44 /groups/douglase/kians-data-files/disk-processing/images/Debes_Models_072022_HLC_images/ring_inc0_r0.30_575_sim.fits\n",
      "45 /groups/douglase/kians-data-files/disk-processing/images/Debes_Models_072022_HLC_images/ring_inc0_r0.40_575_sim.fits\n",
      "46 /groups/douglase/kians-data-files/disk-processing/images/Debes_Models_072022_HLC_images/ring_inc0_r0.50_575_sim.fits\n",
      "47 /groups/douglase/kians-data-files/disk-processing/images/Debes_Models_072022_HLC_images/ring_inc0_r0.60_575_sim.fits\n",
      "48 /groups/douglase/kians-data-files/disk-processing/images/Debes_Models_072022_HLC_images/ring_inc0_r0.80_575_sim.fits\n",
      "49 /groups/douglase/kians-data-files/disk-processing/images/Debes_Models_072022_HLC_images/ring_inc0_r1.00_575_sim.fits\n",
      "50 /groups/douglase/kians-data-files/disk-processing/images/Debes_Models_072022_HLC_images/ring_inc0_r1.20_575_sim.fits\n",
      "51 /groups/douglase/kians-data-files/disk-processing/images/Debes_Models_072022_HLC_images/ring_inc30_r0.10_575_sim.fits\n",
      "52 /groups/douglase/kians-data-files/disk-processing/images/Debes_Models_072022_HLC_images/ring_inc30_r0.15_575_sim.fits\n",
      "53 /groups/douglase/kians-data-files/disk-processing/images/Debes_Models_072022_HLC_images/ring_inc30_r0.20_575_sim.fits\n",
      "54 /groups/douglase/kians-data-files/disk-processing/images/Debes_Models_072022_HLC_images/ring_inc30_r0.30_575_sim.fits\n",
      "55 /groups/douglase/kians-data-files/disk-processing/images/Debes_Models_072022_HLC_images/ring_inc30_r0.40_575_sim.fits\n",
      "56 /groups/douglase/kians-data-files/disk-processing/images/Debes_Models_072022_HLC_images/ring_inc30_r0.50_575_sim.fits\n",
      "57 /groups/douglase/kians-data-files/disk-processing/images/Debes_Models_072022_HLC_images/ring_inc30_r0.60_575_sim.fits\n",
      "58 /groups/douglase/kians-data-files/disk-processing/images/Debes_Models_072022_HLC_images/ring_inc30_r0.80_575_sim.fits\n",
      "59 /groups/douglase/kians-data-files/disk-processing/images/Debes_Models_072022_HLC_images/ring_inc30_r1.00_575_sim.fits\n",
      "60 /groups/douglase/kians-data-files/disk-processing/images/Debes_Models_072022_HLC_images/ring_inc30_r1.20_575_sim.fits\n",
      "61 /groups/douglase/kians-data-files/disk-processing/images/Debes_Models_072022_HLC_images/ring_inc45_r0.10_575_sim.fits\n",
      "62 /groups/douglase/kians-data-files/disk-processing/images/Debes_Models_072022_HLC_images/ring_inc45_r0.15_575_sim.fits\n",
      "63 /groups/douglase/kians-data-files/disk-processing/images/Debes_Models_072022_HLC_images/ring_inc45_r0.20_575_sim.fits\n",
      "64 /groups/douglase/kians-data-files/disk-processing/images/Debes_Models_072022_HLC_images/ring_inc45_r0.30_575_sim.fits\n",
      "65 /groups/douglase/kians-data-files/disk-processing/images/Debes_Models_072022_HLC_images/ring_inc45_r0.40_575_sim.fits\n",
      "66 /groups/douglase/kians-data-files/disk-processing/images/Debes_Models_072022_HLC_images/ring_inc45_r0.50_575_sim.fits\n",
      "67 /groups/douglase/kians-data-files/disk-processing/images/Debes_Models_072022_HLC_images/ring_inc45_r0.60_575_sim.fits\n",
      "68 /groups/douglase/kians-data-files/disk-processing/images/Debes_Models_072022_HLC_images/ring_inc45_r0.80_575_sim.fits\n"
     ]
    },
    {
     "name": "stdout",
     "output_type": "stream",
     "text": [
      "69 /groups/douglase/kians-data-files/disk-processing/images/Debes_Models_072022_HLC_images/ring_inc45_r1.00_575_sim.fits\n",
      "70 /groups/douglase/kians-data-files/disk-processing/images/Debes_Models_072022_HLC_images/ring_inc45_r1.20_575_sim.fits\n",
      "71 /groups/douglase/kians-data-files/disk-processing/images/Debes_Models_072022_HLC_images/ring_inc60_r0.10_575_sim.fits\n",
      "72 /groups/douglase/kians-data-files/disk-processing/images/Debes_Models_072022_HLC_images/ring_inc60_r0.15_575_sim.fits\n",
      "73 /groups/douglase/kians-data-files/disk-processing/images/Debes_Models_072022_HLC_images/ring_inc60_r0.20_575_sim.fits\n",
      "74 /groups/douglase/kians-data-files/disk-processing/images/Debes_Models_072022_HLC_images/ring_inc60_r0.30_575_sim.fits\n",
      "75 /groups/douglase/kians-data-files/disk-processing/images/Debes_Models_072022_HLC_images/ring_inc60_r0.40_575_sim.fits\n",
      "76 /groups/douglase/kians-data-files/disk-processing/images/Debes_Models_072022_HLC_images/ring_inc60_r0.50_575_sim.fits\n",
      "77 /groups/douglase/kians-data-files/disk-processing/images/Debes_Models_072022_HLC_images/ring_inc60_r0.60_575_sim.fits\n",
      "78 /groups/douglase/kians-data-files/disk-processing/images/Debes_Models_072022_HLC_images/ring_inc60_r0.80_575_sim.fits\n",
      "79 /groups/douglase/kians-data-files/disk-processing/images/Debes_Models_072022_HLC_images/ring_inc60_r1.00_575_sim.fits\n",
      "80 /groups/douglase/kians-data-files/disk-processing/images/Debes_Models_072022_HLC_images/ring_inc60_r1.20_575_sim.fits\n",
      "81 /groups/douglase/kians-data-files/disk-processing/images/Debes_Models_072022_HLC_images/ring_inc89_r0.10_575_sim.fits\n",
      "82 /groups/douglase/kians-data-files/disk-processing/images/Debes_Models_072022_HLC_images/ring_inc89_r0.15_575_sim.fits\n",
      "83 /groups/douglase/kians-data-files/disk-processing/images/Debes_Models_072022_HLC_images/ring_inc89_r0.20_575_sim.fits\n",
      "84 /groups/douglase/kians-data-files/disk-processing/images/Debes_Models_072022_HLC_images/ring_inc89_r0.30_575_sim.fits\n",
      "85 /groups/douglase/kians-data-files/disk-processing/images/Debes_Models_072022_HLC_images/ring_inc89_r0.40_575_sim.fits\n",
      "86 /groups/douglase/kians-data-files/disk-processing/images/Debes_Models_072022_HLC_images/ring_inc89_r0.50_575_sim.fits\n",
      "87 /groups/douglase/kians-data-files/disk-processing/images/Debes_Models_072022_HLC_images/ring_inc89_r0.60_575_sim.fits\n",
      "88 /groups/douglase/kians-data-files/disk-processing/images/Debes_Models_072022_HLC_images/ring_inc89_r0.80_575_sim.fits\n",
      "89 /groups/douglase/kians-data-files/disk-processing/images/Debes_Models_072022_HLC_images/ring_inc89_r1.00_575_sim.fits\n",
      "90 /groups/douglase/kians-data-files/disk-processing/images/Debes_Models_072022_HLC_images/ring_inc89_r1.20_575_sim.fits\n",
      "91 /groups/douglase/kians-data-files/disk-processing/images/Debes_Models_072022_HLC_images/zodi_inc0_A2_575_sim.fits\n",
      "92 /groups/douglase/kians-data-files/disk-processing/images/Debes_Models_072022_HLC_images/zodi_inc0_F2_575_sim.fits\n",
      "93 /groups/douglase/kians-data-files/disk-processing/images/Debes_Models_072022_HLC_images/zodi_inc0_G2_575_sim.fits\n",
      "94 /groups/douglase/kians-data-files/disk-processing/images/Debes_Models_072022_HLC_images/zodi_inc0_K2_575_sim.fits\n",
      "95 /groups/douglase/kians-data-files/disk-processing/images/Debes_Models_072022_HLC_images/zodi_inc30_A2_575_sim.fits\n",
      "96 /groups/douglase/kians-data-files/disk-processing/images/Debes_Models_072022_HLC_images/zodi_inc30_F2_575_sim.fits\n",
      "97 /groups/douglase/kians-data-files/disk-processing/images/Debes_Models_072022_HLC_images/zodi_inc30_G2_575_sim.fits\n",
      "98 /groups/douglase/kians-data-files/disk-processing/images/Debes_Models_072022_HLC_images/zodi_inc30_K2_575_sim.fits\n",
      "99 /groups/douglase/kians-data-files/disk-processing/images/Debes_Models_072022_HLC_images/zodi_inc45_A2_575_sim.fits\n",
      "100 /groups/douglase/kians-data-files/disk-processing/images/Debes_Models_072022_HLC_images/zodi_inc45_F2_575_sim.fits\n",
      "101 /groups/douglase/kians-data-files/disk-processing/images/Debes_Models_072022_HLC_images/zodi_inc45_G2_575_sim.fits\n",
      "102 /groups/douglase/kians-data-files/disk-processing/images/Debes_Models_072022_HLC_images/zodi_inc45_K2_575_sim.fits\n",
      "103 /groups/douglase/kians-data-files/disk-processing/images/Debes_Models_072022_HLC_images/zodi_inc60_A2_575_sim.fits\n",
      "104 /groups/douglase/kians-data-files/disk-processing/images/Debes_Models_072022_HLC_images/zodi_inc60_F2_575_sim.fits\n",
      "105 /groups/douglase/kians-data-files/disk-processing/images/Debes_Models_072022_HLC_images/zodi_inc60_G2_575_sim.fits\n",
      "106 /groups/douglase/kians-data-files/disk-processing/images/Debes_Models_072022_HLC_images/zodi_inc60_K2_575_sim.fits\n",
      "107 /groups/douglase/kians-data-files/disk-processing/images/Debes_Models_072022_HLC_images/zodi_inc89_A2_575_sim.fits\n",
      "108 /groups/douglase/kians-data-files/disk-processing/images/Debes_Models_072022_HLC_images/zodi_inc89_F2_575_sim.fits\n",
      "109 /groups/douglase/kians-data-files/disk-processing/images/Debes_Models_072022_HLC_images/zodi_inc89_G2_575_sim.fits\n",
      "110 /groups/douglase/kians-data-files/disk-processing/images/Debes_Models_072022_HLC_images/zodi_inc89_K2_575_sim.fits\n"
     ]
    }
   ],
   "source": [
    "for i,fpath in enumerate(disk_fpaths):\n",
    "    fname = Path(os.path.basename(fpath)).stem + '_575_sim.fits'\n",
    "    \n",
    "    disk = misc.pad_or_crop(fits.getdata(fpath), ndisk)\n",
    "    image = np.reshape(ipsf_matrix.dot(disk.flatten()), (npsf,npsf))\n",
    "    image /= (psf_pixelscale_lamD/disk_pixelscale_lamD)**2\n",
    "    \n",
    "    hdr = fits.Header()\n",
    "    hdr['PXSCLAMD'] = psf_pixelscale_lamD\n",
    "    hdr.comments['PXSCLAMD'] = 'pixel scale in lam0/D per pixel'\n",
    "    hdr['PXSCLMAS'] = psf_pixelscale_mas.value\n",
    "    hdr.comments['PXSCLMAS'] = 'pixel scale in mas per pixel'\n",
    "    hdr['PIXELSCL'] = psf_pixelscale\n",
    "    hdr.comments['PIXELSCL'] = 'pixel scale in meters per pixel'\n",
    "    hdr['CWAVELEN'] = wavelength_c.value\n",
    "    hdr.comments['CWAVELEN'] = 'central wavelength in meters'\n",
    "    hdr['BANDPASS'] = 0.0\n",
    "    hdr.comments['BANDPASS'] = 'bandpass as fraction of CWAVELEN'\n",
    "    \n",
    "    image_hdu = fits.PrimaryHDU(data=image, header=hdr)\n",
    "    image_hdu.writeto(str(images_dir/fname), overwrite=True)\n",
    "    print(i+1, str(images_dir/fname) )"
   ]
  },
  {
   "cell_type": "code",
   "execution_count": 6,
   "metadata": {},
   "outputs": [
    {
     "data": {
      "image/png": "[encoded data removed]",
      "text/plain": [
       "<Figure size 500x500 with 2 Axes>"
      ]
     },
     "metadata": {},
     "output_type": "display_data"
    }
   ],
   "source": [
    "fname = Path(os.path.basename(disk_fpaths[20])).stem + '_575_sim.fits'\n",
    "image = fits.getdata(str(images_dir/fname))\n",
    "\n",
    "misc.myimshow(image, fname)"
   ]
  }
 ],
 "metadata": {
  "kernelspec": {
   "display_name": "poppy39-exp-env",
   "language": "python",
   "name": "poppy39-exp-env"
  },
  "language_info": {
   "codemirror_mode": {
    "name": "ipython",
    "version": 3
   },
   "file_extension": ".py",
   "mimetype": "text/x-python",
   "name": "python",
   "nbconvert_exporter": "python",
   "pygments_lexer": "ipython3",
   "version": "3.9.12"
  }
 },
 "nbformat": 4,
 "nbformat_minor": 5
}
