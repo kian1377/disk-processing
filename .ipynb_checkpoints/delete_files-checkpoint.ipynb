{
 "cells": [
  {
   "cell_type": "code",
   "execution_count": 11,
   "id": "d0ff75dc",
   "metadata": {
    "scrolled": true
   },
   "outputs": [],
   "source": [
    "import numpy as np\n",
    "import astropy.io.fits as fits\n",
    "import astropy.units as u\n",
    "from IPython.display import clear_output\n",
    "import time\n",
    "\n",
    "from scipy.ndimage import rotate\n",
    "from scipy.interpolate import RegularGridInterpolator\n",
    "import h5py\n",
    "import os\n",
    "from pathlib import Path\n",
    "import glob\n",
    "\n",
    "import misc\n",
    "from matplotlib.patches import Circle\n",
    "from importlib import reload\n",
    "reload(misc)\n",
    "\n",
    "data_dir = Path('/groups/douglase/kians-data-files/disk-processing/')"
   ]
  },
  {
   "cell_type": "code",
   "execution_count": 12,
   "metadata": {},
   "outputs": [
    {
     "data": {
      "text/plain": [
       "220"
      ]
     },
     "execution_count": 12,
     "metadata": {},
     "output_type": "execute_result"
    }
   ],
   "source": [
    "ims_fpaths = sorted(glob.glob(str(data_dir/'images'/'Debes_Models_072022_HLC_images'/'*')))\n",
    "len(ims_fpaths)"
   ]
  },
  {
   "cell_type": "code",
   "execution_count": 9,
   "metadata": {
    "scrolled": false
   },
   "outputs": [
    {
     "name": "stdout",
     "output_type": "stream",
     "text": [
      "/groups/douglase/kians-data-files/disk-processing/images/Debes_Models_072022_HLC_images/annulus_inc0_r0.10.fits\n",
      "/groups/douglase/kians-data-files/disk-processing/images/Debes_Models_072022_HLC_images/annulus_inc0_r0.15.fits\n",
      "/groups/douglase/kians-data-files/disk-processing/images/Debes_Models_072022_HLC_images/annulus_inc0_r0.20.fits\n",
      "/groups/douglase/kians-data-files/disk-processing/images/Debes_Models_072022_HLC_images/annulus_inc0_r0.30.fits\n",
      "/groups/douglase/kians-data-files/disk-processing/images/Debes_Models_072022_HLC_images/annulus_inc0_r0.40.fits\n",
      "/groups/douglase/kians-data-files/disk-processing/images/Debes_Models_072022_HLC_images/annulus_inc0_r0.50.fits\n",
      "/groups/douglase/kians-data-files/disk-processing/images/Debes_Models_072022_HLC_images/annulus_inc0_r0.60.fits\n",
      "/groups/douglase/kians-data-files/disk-processing/images/Debes_Models_072022_HLC_images/annulus_inc0_r0.80.fits\n",
      "/groups/douglase/kians-data-files/disk-processing/images/Debes_Models_072022_HLC_images/annulus_inc30_r0.10.fits\n",
      "/groups/douglase/kians-data-files/disk-processing/images/Debes_Models_072022_HLC_images/annulus_inc30_r0.15.fits\n",
      "/groups/douglase/kians-data-files/disk-processing/images/Debes_Models_072022_HLC_images/annulus_inc30_r0.20.fits\n",
      "/groups/douglase/kians-data-files/disk-processing/images/Debes_Models_072022_HLC_images/annulus_inc30_r0.30.fits\n",
      "/groups/douglase/kians-data-files/disk-processing/images/Debes_Models_072022_HLC_images/annulus_inc30_r0.40.fits\n",
      "/groups/douglase/kians-data-files/disk-processing/images/Debes_Models_072022_HLC_images/annulus_inc30_r0.50.fits\n",
      "/groups/douglase/kians-data-files/disk-processing/images/Debes_Models_072022_HLC_images/annulus_inc30_r0.60.fits\n",
      "/groups/douglase/kians-data-files/disk-processing/images/Debes_Models_072022_HLC_images/annulus_inc30_r0.80.fits\n",
      "/groups/douglase/kians-data-files/disk-processing/images/Debes_Models_072022_HLC_images/annulus_inc45_r0.10.fits\n",
      "/groups/douglase/kians-data-files/disk-processing/images/Debes_Models_072022_HLC_images/annulus_inc45_r0.15.fits\n",
      "/groups/douglase/kians-data-files/disk-processing/images/Debes_Models_072022_HLC_images/annulus_inc45_r0.20.fits\n",
      "/groups/douglase/kians-data-files/disk-processing/images/Debes_Models_072022_HLC_images/annulus_inc45_r0.30.fits\n",
      "/groups/douglase/kians-data-files/disk-processing/images/Debes_Models_072022_HLC_images/annulus_inc45_r0.40.fits\n",
      "/groups/douglase/kians-data-files/disk-processing/images/Debes_Models_072022_HLC_images/annulus_inc45_r0.50.fits\n",
      "/groups/douglase/kians-data-files/disk-processing/images/Debes_Models_072022_HLC_images/annulus_inc45_r0.60.fits\n",
      "/groups/douglase/kians-data-files/disk-processing/images/Debes_Models_072022_HLC_images/annulus_inc45_r0.80.fits\n",
      "/groups/douglase/kians-data-files/disk-processing/images/Debes_Models_072022_HLC_images/annulus_inc60_r0.10.fits\n",
      "/groups/douglase/kians-data-files/disk-processing/images/Debes_Models_072022_HLC_images/annulus_inc60_r0.15.fits\n",
      "/groups/douglase/kians-data-files/disk-processing/images/Debes_Models_072022_HLC_images/annulus_inc60_r0.20.fits\n",
      "/groups/douglase/kians-data-files/disk-processing/images/Debes_Models_072022_HLC_images/annulus_inc60_r0.30.fits\n",
      "/groups/douglase/kians-data-files/disk-processing/images/Debes_Models_072022_HLC_images/annulus_inc60_r0.40.fits\n",
      "/groups/douglase/kians-data-files/disk-processing/images/Debes_Models_072022_HLC_images/annulus_inc60_r0.50.fits\n",
      "/groups/douglase/kians-data-files/disk-processing/images/Debes_Models_072022_HLC_images/annulus_inc60_r0.60.fits\n",
      "/groups/douglase/kians-data-files/disk-processing/images/Debes_Models_072022_HLC_images/annulus_inc60_r0.80.fits\n",
      "/groups/douglase/kians-data-files/disk-processing/images/Debes_Models_072022_HLC_images/annulus_inc89_r0.10.fits\n",
      "/groups/douglase/kians-data-files/disk-processing/images/Debes_Models_072022_HLC_images/annulus_inc89_r0.15.fits\n",
      "/groups/douglase/kians-data-files/disk-processing/images/Debes_Models_072022_HLC_images/annulus_inc89_r0.20.fits\n",
      "/groups/douglase/kians-data-files/disk-processing/images/Debes_Models_072022_HLC_images/annulus_inc89_r0.30.fits\n",
      "/groups/douglase/kians-data-files/disk-processing/images/Debes_Models_072022_HLC_images/annulus_inc89_r0.40.fits\n",
      "/groups/douglase/kians-data-files/disk-processing/images/Debes_Models_072022_HLC_images/annulus_inc89_r0.50.fits\n",
      "/groups/douglase/kians-data-files/disk-processing/images/Debes_Models_072022_HLC_images/annulus_inc89_r0.60.fits\n",
      "/groups/douglase/kians-data-files/disk-processing/images/Debes_Models_072022_HLC_images/annulus_inc89_r0.80.fits\n",
      "/groups/douglase/kians-data-files/disk-processing/images/Debes_Models_072022_HLC_images/ring_inc0_r0.10.fits\n",
      "/groups/douglase/kians-data-files/disk-processing/images/Debes_Models_072022_HLC_images/ring_inc0_r0.15.fits\n",
      "/groups/douglase/kians-data-files/disk-processing/images/Debes_Models_072022_HLC_images/ring_inc0_r0.20.fits\n",
      "/groups/douglase/kians-data-files/disk-processing/images/Debes_Models_072022_HLC_images/ring_inc0_r0.30.fits\n",
      "/groups/douglase/kians-data-files/disk-processing/images/Debes_Models_072022_HLC_images/ring_inc0_r0.40.fits\n",
      "/groups/douglase/kians-data-files/disk-processing/images/Debes_Models_072022_HLC_images/ring_inc0_r0.50.fits\n",
      "/groups/douglase/kians-data-files/disk-processing/images/Debes_Models_072022_HLC_images/ring_inc0_r0.60.fits\n",
      "/groups/douglase/kians-data-files/disk-processing/images/Debes_Models_072022_HLC_images/ring_inc0_r0.80.fits\n",
      "/groups/douglase/kians-data-files/disk-processing/images/Debes_Models_072022_HLC_images/ring_inc0_r1.00.fits\n",
      "/groups/douglase/kians-data-files/disk-processing/images/Debes_Models_072022_HLC_images/ring_inc0_r1.20.fits\n",
      "/groups/douglase/kians-data-files/disk-processing/images/Debes_Models_072022_HLC_images/ring_inc30_r0.10.fits\n",
      "/groups/douglase/kians-data-files/disk-processing/images/Debes_Models_072022_HLC_images/ring_inc30_r0.15.fits\n",
      "/groups/douglase/kians-data-files/disk-processing/images/Debes_Models_072022_HLC_images/ring_inc30_r0.20.fits\n",
      "/groups/douglase/kians-data-files/disk-processing/images/Debes_Models_072022_HLC_images/ring_inc30_r0.30.fits\n",
      "/groups/douglase/kians-data-files/disk-processing/images/Debes_Models_072022_HLC_images/ring_inc30_r0.40.fits\n",
      "/groups/douglase/kians-data-files/disk-processing/images/Debes_Models_072022_HLC_images/ring_inc30_r0.50.fits\n",
      "/groups/douglase/kians-data-files/disk-processing/images/Debes_Models_072022_HLC_images/ring_inc30_r0.60.fits\n",
      "/groups/douglase/kians-data-files/disk-processing/images/Debes_Models_072022_HLC_images/ring_inc30_r0.80.fits\n",
      "/groups/douglase/kians-data-files/disk-processing/images/Debes_Models_072022_HLC_images/ring_inc30_r1.00.fits\n",
      "/groups/douglase/kians-data-files/disk-processing/images/Debes_Models_072022_HLC_images/ring_inc30_r1.20.fits\n",
      "/groups/douglase/kians-data-files/disk-processing/images/Debes_Models_072022_HLC_images/ring_inc45_r0.10.fits\n",
      "/groups/douglase/kians-data-files/disk-processing/images/Debes_Models_072022_HLC_images/ring_inc45_r0.15.fits\n",
      "/groups/douglase/kians-data-files/disk-processing/images/Debes_Models_072022_HLC_images/ring_inc45_r0.20.fits\n",
      "/groups/douglase/kians-data-files/disk-processing/images/Debes_Models_072022_HLC_images/ring_inc45_r0.30.fits\n",
      "/groups/douglase/kians-data-files/disk-processing/images/Debes_Models_072022_HLC_images/ring_inc45_r0.40.fits\n",
      "/groups/douglase/kians-data-files/disk-processing/images/Debes_Models_072022_HLC_images/ring_inc45_r0.50.fits\n",
      "/groups/douglase/kians-data-files/disk-processing/images/Debes_Models_072022_HLC_images/ring_inc45_r0.60.fits\n",
      "/groups/douglase/kians-data-files/disk-processing/images/Debes_Models_072022_HLC_images/ring_inc45_r0.80.fits\n",
      "/groups/douglase/kians-data-files/disk-processing/images/Debes_Models_072022_HLC_images/ring_inc45_r1.00.fits\n",
      "/groups/douglase/kians-data-files/disk-processing/images/Debes_Models_072022_HLC_images/ring_inc45_r1.20.fits\n",
      "/groups/douglase/kians-data-files/disk-processing/images/Debes_Models_072022_HLC_images/ring_inc60_r0.10.fits\n",
      "/groups/douglase/kians-data-files/disk-processing/images/Debes_Models_072022_HLC_images/ring_inc60_r0.15.fits\n",
      "/groups/douglase/kians-data-files/disk-processing/images/Debes_Models_072022_HLC_images/ring_inc60_r0.20.fits\n",
      "/groups/douglase/kians-data-files/disk-processing/images/Debes_Models_072022_HLC_images/ring_inc60_r0.30.fits\n",
      "/groups/douglase/kians-data-files/disk-processing/images/Debes_Models_072022_HLC_images/ring_inc60_r0.40.fits\n",
      "/groups/douglase/kians-data-files/disk-processing/images/Debes_Models_072022_HLC_images/ring_inc60_r0.50.fits\n",
      "/groups/douglase/kians-data-files/disk-processing/images/Debes_Models_072022_HLC_images/ring_inc60_r0.60.fits\n",
      "/groups/douglase/kians-data-files/disk-processing/images/Debes_Models_072022_HLC_images/ring_inc60_r0.80.fits\n",
      "/groups/douglase/kians-data-files/disk-processing/images/Debes_Models_072022_HLC_images/ring_inc60_r1.00.fits\n",
      "/groups/douglase/kians-data-files/disk-processing/images/Debes_Models_072022_HLC_images/ring_inc60_r1.20.fits\n",
      "/groups/douglase/kians-data-files/disk-processing/images/Debes_Models_072022_HLC_images/ring_inc89_r0.10.fits\n",
      "/groups/douglase/kians-data-files/disk-processing/images/Debes_Models_072022_HLC_images/ring_inc89_r0.15.fits\n",
      "/groups/douglase/kians-data-files/disk-processing/images/Debes_Models_072022_HLC_images/ring_inc89_r0.20.fits\n",
      "/groups/douglase/kians-data-files/disk-processing/images/Debes_Models_072022_HLC_images/ring_inc89_r0.30.fits\n",
      "/groups/douglase/kians-data-files/disk-processing/images/Debes_Models_072022_HLC_images/ring_inc89_r0.40.fits\n",
      "/groups/douglase/kians-data-files/disk-processing/images/Debes_Models_072022_HLC_images/ring_inc89_r0.50.fits\n",
      "/groups/douglase/kians-data-files/disk-processing/images/Debes_Models_072022_HLC_images/ring_inc89_r0.60.fits\n",
      "/groups/douglase/kians-data-files/disk-processing/images/Debes_Models_072022_HLC_images/ring_inc89_r0.80.fits\n",
      "/groups/douglase/kians-data-files/disk-processing/images/Debes_Models_072022_HLC_images/ring_inc89_r1.00.fits\n",
      "/groups/douglase/kians-data-files/disk-processing/images/Debes_Models_072022_HLC_images/ring_inc89_r1.20.fits\n",
      "/groups/douglase/kians-data-files/disk-processing/images/Debes_Models_072022_HLC_images/zodi_inc0_A2.fits\n",
      "/groups/douglase/kians-data-files/disk-processing/images/Debes_Models_072022_HLC_images/zodi_inc0_F2.fits\n",
      "/groups/douglase/kians-data-files/disk-processing/images/Debes_Models_072022_HLC_images/zodi_inc0_G2.fits\n",
      "/groups/douglase/kians-data-files/disk-processing/images/Debes_Models_072022_HLC_images/zodi_inc0_K2.fits\n"
     ]
    },
    {
     "name": "stdout",
     "output_type": "stream",
     "text": [
      "/groups/douglase/kians-data-files/disk-processing/images/Debes_Models_072022_HLC_images/zodi_inc30_A2.fits\n",
      "/groups/douglase/kians-data-files/disk-processing/images/Debes_Models_072022_HLC_images/zodi_inc30_F2.fits\n",
      "/groups/douglase/kians-data-files/disk-processing/images/Debes_Models_072022_HLC_images/zodi_inc30_G2.fits\n",
      "/groups/douglase/kians-data-files/disk-processing/images/Debes_Models_072022_HLC_images/zodi_inc30_K2.fits\n",
      "/groups/douglase/kians-data-files/disk-processing/images/Debes_Models_072022_HLC_images/zodi_inc45_A2.fits\n",
      "/groups/douglase/kians-data-files/disk-processing/images/Debes_Models_072022_HLC_images/zodi_inc45_F2.fits\n",
      "/groups/douglase/kians-data-files/disk-processing/images/Debes_Models_072022_HLC_images/zodi_inc45_G2.fits\n",
      "/groups/douglase/kians-data-files/disk-processing/images/Debes_Models_072022_HLC_images/zodi_inc45_K2.fits\n",
      "/groups/douglase/kians-data-files/disk-processing/images/Debes_Models_072022_HLC_images/zodi_inc60_A2.fits\n",
      "/groups/douglase/kians-data-files/disk-processing/images/Debes_Models_072022_HLC_images/zodi_inc60_F2.fits\n",
      "/groups/douglase/kians-data-files/disk-processing/images/Debes_Models_072022_HLC_images/zodi_inc60_G2.fits\n",
      "/groups/douglase/kians-data-files/disk-processing/images/Debes_Models_072022_HLC_images/zodi_inc60_K2.fits\n",
      "/groups/douglase/kians-data-files/disk-processing/images/Debes_Models_072022_HLC_images/zodi_inc89_A2.fits\n",
      "/groups/douglase/kians-data-files/disk-processing/images/Debes_Models_072022_HLC_images/zodi_inc89_F2.fits\n",
      "/groups/douglase/kians-data-files/disk-processing/images/Debes_Models_072022_HLC_images/zodi_inc89_G2.fits\n",
      "/groups/douglase/kians-data-files/disk-processing/images/Debes_Models_072022_HLC_images/zodi_inc89_K2.fits\n",
      "110\n"
     ]
    }
   ],
   "source": [
    "count=0\n",
    "for fpath in ims_fpaths:\n",
    "    if 'sim' not in fpath:\n",
    "        print(fpath)\n",
    "        os.remove(fpath)\n",
    "        count+=1\n",
    "print(count)"
   ]
  }
 ],
 "metadata": {
  "kernelspec": {
   "display_name": "poppy39-exp-env",
   "language": "python",
   "name": "poppy39-exp-env"
  },
  "language_info": {
   "codemirror_mode": {
    "name": "ipython",
    "version": 3
   },
   "file_extension": ".py",
   "mimetype": "text/x-python",
   "name": "python",
   "nbconvert_exporter": "python",
   "pygments_lexer": "ipython3",
   "version": "3.9.12"
  }
 },
 "nbformat": 4,
 "nbformat_minor": 5
}
